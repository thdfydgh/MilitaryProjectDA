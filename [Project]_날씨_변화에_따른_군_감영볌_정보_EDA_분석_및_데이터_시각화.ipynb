{
  "nbformat": 4,
  "nbformat_minor": 0,
  "metadata": {
    "colab": {
      "provenance": [],
      "authorship_tag": "ABX9TyO6ppOU+iPcuwu682XaA0Wl",
      "include_colab_link": true
    },
    "kernelspec": {
      "name": "python3",
      "display_name": "Python 3"
    },
    "language_info": {
      "name": "python"
    }
  },
  "cells": [
    {
      "cell_type": "markdown",
      "metadata": {
        "id": "view-in-github",
        "colab_type": "text"
      },
      "source": [
        "<a href=\"https://colab.research.google.com/github/thdfydgh/MilitaryProjectDA/blob/main/%5BProject%5D_%EB%82%A0%EC%94%A8_%EB%B3%80%ED%99%94%EC%97%90_%EB%94%B0%EB%A5%B8_%EA%B5%B0_%EA%B0%90%EC%98%81%EB%B3%8C_%EC%A0%95%EB%B3%B4_EDA_%EB%B6%84%EC%84%9D_%EB%B0%8F_%EB%8D%B0%EC%9D%B4%ED%84%B0_%EC%8B%9C%EA%B0%81%ED%99%94.ipynb\" target=\"_parent\"><img src=\"https://colab.research.google.com/assets/colab-badge.svg\" alt=\"Open In Colab\"/></a>"
      ]
    },
    {
      "cell_type": "markdown",
      "source": [
        "# **[Project] 날씨 변화에 따른 군 감영볌 정보 EDA 분석 및 데이터 시각화**"
      ],
      "metadata": {
        "id": "KH4O7k8IbYnc"
      }
    },
    {
      "cell_type": "markdown",
      "source": [
        "## **프로젝트 목표**\n",
        "\n",
        "- 분기별 군 감염병(폐렴, 수두, 결핵 등) 현황 정보와 날씨 데이터를 활용하여 기온 변화에 따른 군 감염병과의 EDA 분석 및 시각화 프로젝트 수행\n",
        "\n",
        "\n"
      ],
      "metadata": {
        "id": "wC6frWdUbh9b"
      }
    },
    {
      "cell_type": "markdown",
      "source": [
        "##**데이터 출처**"
      ],
      "metadata": {
        "id": "KHtwtPlJbvBj"
      }
    },
    {
      "cell_type": "markdown",
      "source": [
        "\n",
        "\n",
        "*   https://www.data.go.kr/data/15083055/fileData.do (국방부 군 \n",
        "감염병 정보)\n",
        "*   https://data.kma.go.kr/data/grnd/selectAwsRltmList.do?pgmNo=56 (기상청 방재기상관측 자료)"
      ],
      "metadata": {
        "id": "DM7nvQkFblOL"
      }
    },
    {
      "cell_type": "markdown",
      "source": [
        "##**프로젝트 개요**\n",
        "\n",
        "1.   이 프로젝트에서는 Pandas 및 Matplotlib를 사용하여 분기별 `군 감염병 현황 데이터`와 `기온 데이터`에 대한 탐색적 데이터 분석(EDA)를 적용하여 색인된 시간 순서로 질병과 기온 변수 레코드의 시계열 데이터를 시각화한다.\n",
        "2.  탐색적 데이터 분석(EDA) 방법 및 데이터 시각화를 통하여 데이터의 분포와 값을 다양한 각도에서 관찰하며 데이터가 표현하는 현상과 다양한 패턴을 파악할 수 있다."
      ],
      "metadata": {
        "id": "_BQw_aR4b0vK"
      }
    },
    {
      "cell_type": "markdown",
      "source": [
        "## **1. 데이터 읽기**\n"
      ],
      "metadata": {
        "id": "NtYKMqwJcQGZ"
      }
    },
    {
      "cell_type": "code",
      "source": [
        "# 한글 폰트 다운로드\n",
        "!sudo apt-get install -y fonts-nanum\n",
        "!sudo fc-cache -fv\n",
        "!rm ~/.cache/matplotlib -rf"
      ],
      "metadata": {
        "colab": {
          "base_uri": "https://localhost:8080/"
        },
        "id": "49OgWY-gcLYp",
        "outputId": "bcd42af7-7ac2-424f-e647-c98c51c26753"
      },
      "execution_count": 1,
      "outputs": [
        {
          "output_type": "stream",
          "name": "stdout",
          "text": [
            "Reading package lists... Done\n",
            "Building dependency tree       \n",
            "Reading state information... Done\n",
            "fonts-nanum is already the newest version (20180306-3).\n",
            "0 upgraded, 0 newly installed, 0 to remove and 23 not upgraded.\n",
            "/usr/share/fonts: caching, new cache contents: 0 fonts, 1 dirs\n",
            "/usr/share/fonts/truetype: caching, new cache contents: 0 fonts, 3 dirs\n",
            "/usr/share/fonts/truetype/humor-sans: caching, new cache contents: 1 fonts, 0 dirs\n",
            "/usr/share/fonts/truetype/liberation: caching, new cache contents: 16 fonts, 0 dirs\n",
            "/usr/share/fonts/truetype/nanum: caching, new cache contents: 10 fonts, 0 dirs\n",
            "/usr/local/share/fonts: caching, new cache contents: 0 fonts, 0 dirs\n",
            "/root/.local/share/fonts: skipping, no such directory\n",
            "/root/.fonts: skipping, no such directory\n",
            "/usr/share/fonts/truetype: skipping, looped directory detected\n",
            "/usr/share/fonts/truetype/humor-sans: skipping, looped directory detected\n",
            "/usr/share/fonts/truetype/liberation: skipping, looped directory detected\n",
            "/usr/share/fonts/truetype/nanum: skipping, looped directory detected\n",
            "/var/cache/fontconfig: cleaning cache directory\n",
            "/root/.cache/fontconfig: not cleaning non-existent cache directory\n",
            "/root/.fontconfig: not cleaning non-existent cache directory\n",
            "fc-cache: succeeded\n"
          ]
        }
      ]
    },
    {
      "cell_type": "code",
      "source": [
        "#구글 드라이브 연결\n",
        "from google.colab import drive\n",
        "drive.mount('/content/gddrive')"
      ],
      "metadata": {
        "id": "Dtp79BpwcXqq",
        "colab": {
          "base_uri": "https://localhost:8080/"
        },
        "outputId": "d8376378-a928-4534-a955-11ae4fc1cc67"
      },
      "execution_count": 2,
      "outputs": [
        {
          "output_type": "stream",
          "name": "stdout",
          "text": [
            "Drive already mounted at /content/gddrive; to attempt to forcibly remount, call drive.mount(\"/content/gddrive\", force_remount=True).\n"
          ]
        }
      ]
    },
    {
      "cell_type": "code",
      "source": [
        "import numpy as np\n",
        "import matplotlib.pyplot as plt\n",
        "import pandas as pd\n",
        "import matplotlib.font_manager as fm\n",
        "\n",
        "# 데이터 경로 지정\n",
        "fp1 ='/content/gddrive/MyDrive/Dataset/군 감염병 정보.csv'\n",
        "fp2 ='/content/gddrive/MyDrive/Dataset/월별 기온 정보.csv'"
      ],
      "metadata": {
        "id": "LRyVp8wKcIF8"
      },
      "execution_count": 3,
      "outputs": []
    },
    {
      "cell_type": "code",
      "source": [
        "# csv 파일 읽기\n",
        "df_disease = pd.read_csv(fp1, encoding='euc-kr') # 군 감염병 정보\n",
        "df_temperature = pd.read_csv(fp2, parse_dates=['일시'], encoding='euc-kr') # 월별 기온 정보, '일시' 데이터를 datetime으로 설정\n"
      ],
      "metadata": {
        "id": "wfvaxvg2L988"
      },
      "execution_count": 4,
      "outputs": []
    },
    {
      "cell_type": "code",
      "source": [
        "# 군 감염병 정보의 행과 열의 개수 확인\n",
        "df_disease.shape"
      ],
      "metadata": {
        "colab": {
          "base_uri": "https://localhost:8080/"
        },
        "id": "TqbYFLTlMLeJ",
        "outputId": "ca845f2a-c5d1-4339-f4ca-daf63e0f84ac"
      },
      "execution_count": 13,
      "outputs": [
        {
          "output_type": "execute_result",
          "data": {
            "text/plain": [
              "(373, 5)"
            ]
          },
          "metadata": {},
          "execution_count": 13
        }
      ]
    },
    {
      "cell_type": "code",
      "source": [
        "# 군 감염병 정보 확인, 첫 5개 데이터 출력\n",
        "df_disease.head()\n"
      ],
      "metadata": {
        "colab": {
          "base_uri": "https://localhost:8080/",
          "height": 206
        },
        "id": "-shAE4z4MUMB",
        "outputId": "bcf37ce9-f2f4-4513-a33d-3811d29cd0e3"
      },
      "execution_count": 5,
      "outputs": [
        {
          "output_type": "execute_result",
          "data": {
            "text/plain": [
              "     연도  분기구분       질병명  현황  비고\n",
              "0  2018     4       홍 역   0   0\n",
              "1  2018     4  유행성 이하선염   0   0\n",
              "2  2018     4       수 두  19   0\n",
              "3  2018     4       결 핵  17   0\n",
              "4  2018     4      말라리아   3   0"
            ],
            "text/html": [
              "\n",
              "  <div id=\"df-0a785a48-1c40-4459-a922-5269d1db9add\">\n",
              "    <div class=\"colab-df-container\">\n",
              "      <div>\n",
              "<style scoped>\n",
              "    .dataframe tbody tr th:only-of-type {\n",
              "        vertical-align: middle;\n",
              "    }\n",
              "\n",
              "    .dataframe tbody tr th {\n",
              "        vertical-align: top;\n",
              "    }\n",
              "\n",
              "    .dataframe thead th {\n",
              "        text-align: right;\n",
              "    }\n",
              "</style>\n",
              "<table border=\"1\" class=\"dataframe\">\n",
              "  <thead>\n",
              "    <tr style=\"text-align: right;\">\n",
              "      <th></th>\n",
              "      <th>연도</th>\n",
              "      <th>분기구분</th>\n",
              "      <th>질병명</th>\n",
              "      <th>현황</th>\n",
              "      <th>비고</th>\n",
              "    </tr>\n",
              "  </thead>\n",
              "  <tbody>\n",
              "    <tr>\n",
              "      <th>0</th>\n",
              "      <td>2018</td>\n",
              "      <td>4</td>\n",
              "      <td>홍 역</td>\n",
              "      <td>0</td>\n",
              "      <td>0</td>\n",
              "    </tr>\n",
              "    <tr>\n",
              "      <th>1</th>\n",
              "      <td>2018</td>\n",
              "      <td>4</td>\n",
              "      <td>유행성 이하선염</td>\n",
              "      <td>0</td>\n",
              "      <td>0</td>\n",
              "    </tr>\n",
              "    <tr>\n",
              "      <th>2</th>\n",
              "      <td>2018</td>\n",
              "      <td>4</td>\n",
              "      <td>수 두</td>\n",
              "      <td>19</td>\n",
              "      <td>0</td>\n",
              "    </tr>\n",
              "    <tr>\n",
              "      <th>3</th>\n",
              "      <td>2018</td>\n",
              "      <td>4</td>\n",
              "      <td>결 핵</td>\n",
              "      <td>17</td>\n",
              "      <td>0</td>\n",
              "    </tr>\n",
              "    <tr>\n",
              "      <th>4</th>\n",
              "      <td>2018</td>\n",
              "      <td>4</td>\n",
              "      <td>말라리아</td>\n",
              "      <td>3</td>\n",
              "      <td>0</td>\n",
              "    </tr>\n",
              "  </tbody>\n",
              "</table>\n",
              "</div>\n",
              "      <button class=\"colab-df-convert\" onclick=\"convertToInteractive('df-0a785a48-1c40-4459-a922-5269d1db9add')\"\n",
              "              title=\"Convert this dataframe to an interactive table.\"\n",
              "              style=\"display:none;\">\n",
              "        \n",
              "  <svg xmlns=\"http://www.w3.org/2000/svg\" height=\"24px\"viewBox=\"0 0 24 24\"\n",
              "       width=\"24px\">\n",
              "    <path d=\"M0 0h24v24H0V0z\" fill=\"none\"/>\n",
              "    <path d=\"M18.56 5.44l.94 2.06.94-2.06 2.06-.94-2.06-.94-.94-2.06-.94 2.06-2.06.94zm-11 1L8.5 8.5l.94-2.06 2.06-.94-2.06-.94L8.5 2.5l-.94 2.06-2.06.94zm10 10l.94 2.06.94-2.06 2.06-.94-2.06-.94-.94-2.06-.94 2.06-2.06.94z\"/><path d=\"M17.41 7.96l-1.37-1.37c-.4-.4-.92-.59-1.43-.59-.52 0-1.04.2-1.43.59L10.3 9.45l-7.72 7.72c-.78.78-.78 2.05 0 2.83L4 21.41c.39.39.9.59 1.41.59.51 0 1.02-.2 1.41-.59l7.78-7.78 2.81-2.81c.8-.78.8-2.07 0-2.86zM5.41 20L4 18.59l7.72-7.72 1.47 1.35L5.41 20z\"/>\n",
              "  </svg>\n",
              "      </button>\n",
              "      \n",
              "  <style>\n",
              "    .colab-df-container {\n",
              "      display:flex;\n",
              "      flex-wrap:wrap;\n",
              "      gap: 12px;\n",
              "    }\n",
              "\n",
              "    .colab-df-convert {\n",
              "      background-color: #E8F0FE;\n",
              "      border: none;\n",
              "      border-radius: 50%;\n",
              "      cursor: pointer;\n",
              "      display: none;\n",
              "      fill: #1967D2;\n",
              "      height: 32px;\n",
              "      padding: 0 0 0 0;\n",
              "      width: 32px;\n",
              "    }\n",
              "\n",
              "    .colab-df-convert:hover {\n",
              "      background-color: #E2EBFA;\n",
              "      box-shadow: 0px 1px 2px rgba(60, 64, 67, 0.3), 0px 1px 3px 1px rgba(60, 64, 67, 0.15);\n",
              "      fill: #174EA6;\n",
              "    }\n",
              "\n",
              "    [theme=dark] .colab-df-convert {\n",
              "      background-color: #3B4455;\n",
              "      fill: #D2E3FC;\n",
              "    }\n",
              "\n",
              "    [theme=dark] .colab-df-convert:hover {\n",
              "      background-color: #434B5C;\n",
              "      box-shadow: 0px 1px 3px 1px rgba(0, 0, 0, 0.15);\n",
              "      filter: drop-shadow(0px 1px 2px rgba(0, 0, 0, 0.3));\n",
              "      fill: #FFFFFF;\n",
              "    }\n",
              "  </style>\n",
              "\n",
              "      <script>\n",
              "        const buttonEl =\n",
              "          document.querySelector('#df-0a785a48-1c40-4459-a922-5269d1db9add button.colab-df-convert');\n",
              "        buttonEl.style.display =\n",
              "          google.colab.kernel.accessAllowed ? 'block' : 'none';\n",
              "\n",
              "        async function convertToInteractive(key) {\n",
              "          const element = document.querySelector('#df-0a785a48-1c40-4459-a922-5269d1db9add');\n",
              "          const dataTable =\n",
              "            await google.colab.kernel.invokeFunction('convertToInteractive',\n",
              "                                                     [key], {});\n",
              "          if (!dataTable) return;\n",
              "\n",
              "          const docLinkHtml = 'Like what you see? Visit the ' +\n",
              "            '<a target=\"_blank\" href=https://colab.research.google.com/notebooks/data_table.ipynb>data table notebook</a>'\n",
              "            + ' to learn more about interactive tables.';\n",
              "          element.innerHTML = '';\n",
              "          dataTable['output_type'] = 'display_data';\n",
              "          await google.colab.output.renderOutput(dataTable, element);\n",
              "          const docLink = document.createElement('div');\n",
              "          docLink.innerHTML = docLinkHtml;\n",
              "          element.appendChild(docLink);\n",
              "        }\n",
              "      </script>\n",
              "    </div>\n",
              "  </div>\n",
              "  "
            ]
          },
          "metadata": {},
          "execution_count": 5
        }
      ]
    },
    {
      "cell_type": "code",
      "source": [
        "#월별 기온 정보의 행과 열의 개수 확인\n",
        "df_temperature.shape"
      ],
      "metadata": {
        "colab": {
          "base_uri": "https://localhost:8080/"
        },
        "id": "saC0y-OOMYyp",
        "outputId": "aab89451-45ec-41d0-9830-03c4341ed852"
      },
      "execution_count": 16,
      "outputs": [
        {
          "output_type": "execute_result",
          "data": {
            "text/plain": [
              "(43064, 15)"
            ]
          },
          "metadata": {},
          "execution_count": 16
        }
      ]
    },
    {
      "cell_type": "code",
      "source": [
        "#월별 기온 정보 확인.\n",
        "df_temperature.head()"
      ],
      "metadata": {
        "colab": {
          "base_uri": "https://localhost:8080/",
          "height": 354
        },
        "id": "1P2Vp3uMMeD1",
        "outputId": "7e8ad8f5-1bc6-42ed-d03c-2d04390d5484"
      },
      "execution_count": 17,
      "outputs": [
        {
          "output_type": "execute_result",
          "data": {
            "text/plain": [
              "   지점     지점명         일시  평균기온(°C)  평균최고기온(°C)  평균최저기온(°C)  최고기온(°C)  \\\n",
              "0  12  안면도(감) 2015-01-01       0.3         3.3        -2.4       9.6   \n",
              "1  12  안면도(감) 2015-02-01       1.4         4.5        -1.2      10.6   \n",
              "2  12  안면도(감) 2015-03-01       4.8         8.5         1.5      13.9   \n",
              "3  12  안면도(감) 2015-04-01      11.1        14.9         8.0      22.8   \n",
              "4  12  안면도(감) 2015-05-01      15.0        18.8        11.8      24.7   \n",
              "\n",
              "   최저기온(°C)  최고기온 나타난날(yyyymmdd)  최저기온 나타난날(yyyymmdd)  평균풍속(m/s)  최대순간풍속(m/s)  \\\n",
              "0      -6.2           20150105.0           20150101.0        3.4         15.7   \n",
              "1      -8.5           20150215.0           20150209.0        3.0         16.6   \n",
              "2      -3.8           20150330.0           20150309.0        2.6         18.8   \n",
              "3       3.8           20150428.0           20150408.0        3.2         22.1   \n",
              "4       8.3           20150529.0           20150505.0        2.5         18.2   \n",
              "\n",
              "   최대순간풍속풍향(deg)  최대순간풍속 나타난날(yyyymmdd)  월강수량합(mm)  \n",
              "0          337.2             20150101.0       15.5  \n",
              "1          336.4             20150208.0       23.5  \n",
              "2          259.6             20150303.0       17.5  \n",
              "3          162.6             20150402.0       97.0  \n",
              "4          140.6             20150511.0       24.5  "
            ],
            "text/html": [
              "\n",
              "  <div id=\"df-961d749a-504e-47f6-8e0a-ccee368cf950\">\n",
              "    <div class=\"colab-df-container\">\n",
              "      <div>\n",
              "<style scoped>\n",
              "    .dataframe tbody tr th:only-of-type {\n",
              "        vertical-align: middle;\n",
              "    }\n",
              "\n",
              "    .dataframe tbody tr th {\n",
              "        vertical-align: top;\n",
              "    }\n",
              "\n",
              "    .dataframe thead th {\n",
              "        text-align: right;\n",
              "    }\n",
              "</style>\n",
              "<table border=\"1\" class=\"dataframe\">\n",
              "  <thead>\n",
              "    <tr style=\"text-align: right;\">\n",
              "      <th></th>\n",
              "      <th>지점</th>\n",
              "      <th>지점명</th>\n",
              "      <th>일시</th>\n",
              "      <th>평균기온(°C)</th>\n",
              "      <th>평균최고기온(°C)</th>\n",
              "      <th>평균최저기온(°C)</th>\n",
              "      <th>최고기온(°C)</th>\n",
              "      <th>최저기온(°C)</th>\n",
              "      <th>최고기온 나타난날(yyyymmdd)</th>\n",
              "      <th>최저기온 나타난날(yyyymmdd)</th>\n",
              "      <th>평균풍속(m/s)</th>\n",
              "      <th>최대순간풍속(m/s)</th>\n",
              "      <th>최대순간풍속풍향(deg)</th>\n",
              "      <th>최대순간풍속 나타난날(yyyymmdd)</th>\n",
              "      <th>월강수량합(mm)</th>\n",
              "    </tr>\n",
              "  </thead>\n",
              "  <tbody>\n",
              "    <tr>\n",
              "      <th>0</th>\n",
              "      <td>12</td>\n",
              "      <td>안면도(감)</td>\n",
              "      <td>2015-01-01</td>\n",
              "      <td>0.3</td>\n",
              "      <td>3.3</td>\n",
              "      <td>-2.4</td>\n",
              "      <td>9.6</td>\n",
              "      <td>-6.2</td>\n",
              "      <td>20150105.0</td>\n",
              "      <td>20150101.0</td>\n",
              "      <td>3.4</td>\n",
              "      <td>15.7</td>\n",
              "      <td>337.2</td>\n",
              "      <td>20150101.0</td>\n",
              "      <td>15.5</td>\n",
              "    </tr>\n",
              "    <tr>\n",
              "      <th>1</th>\n",
              "      <td>12</td>\n",
              "      <td>안면도(감)</td>\n",
              "      <td>2015-02-01</td>\n",
              "      <td>1.4</td>\n",
              "      <td>4.5</td>\n",
              "      <td>-1.2</td>\n",
              "      <td>10.6</td>\n",
              "      <td>-8.5</td>\n",
              "      <td>20150215.0</td>\n",
              "      <td>20150209.0</td>\n",
              "      <td>3.0</td>\n",
              "      <td>16.6</td>\n",
              "      <td>336.4</td>\n",
              "      <td>20150208.0</td>\n",
              "      <td>23.5</td>\n",
              "    </tr>\n",
              "    <tr>\n",
              "      <th>2</th>\n",
              "      <td>12</td>\n",
              "      <td>안면도(감)</td>\n",
              "      <td>2015-03-01</td>\n",
              "      <td>4.8</td>\n",
              "      <td>8.5</td>\n",
              "      <td>1.5</td>\n",
              "      <td>13.9</td>\n",
              "      <td>-3.8</td>\n",
              "      <td>20150330.0</td>\n",
              "      <td>20150309.0</td>\n",
              "      <td>2.6</td>\n",
              "      <td>18.8</td>\n",
              "      <td>259.6</td>\n",
              "      <td>20150303.0</td>\n",
              "      <td>17.5</td>\n",
              "    </tr>\n",
              "    <tr>\n",
              "      <th>3</th>\n",
              "      <td>12</td>\n",
              "      <td>안면도(감)</td>\n",
              "      <td>2015-04-01</td>\n",
              "      <td>11.1</td>\n",
              "      <td>14.9</td>\n",
              "      <td>8.0</td>\n",
              "      <td>22.8</td>\n",
              "      <td>3.8</td>\n",
              "      <td>20150428.0</td>\n",
              "      <td>20150408.0</td>\n",
              "      <td>3.2</td>\n",
              "      <td>22.1</td>\n",
              "      <td>162.6</td>\n",
              "      <td>20150402.0</td>\n",
              "      <td>97.0</td>\n",
              "    </tr>\n",
              "    <tr>\n",
              "      <th>4</th>\n",
              "      <td>12</td>\n",
              "      <td>안면도(감)</td>\n",
              "      <td>2015-05-01</td>\n",
              "      <td>15.0</td>\n",
              "      <td>18.8</td>\n",
              "      <td>11.8</td>\n",
              "      <td>24.7</td>\n",
              "      <td>8.3</td>\n",
              "      <td>20150529.0</td>\n",
              "      <td>20150505.0</td>\n",
              "      <td>2.5</td>\n",
              "      <td>18.2</td>\n",
              "      <td>140.6</td>\n",
              "      <td>20150511.0</td>\n",
              "      <td>24.5</td>\n",
              "    </tr>\n",
              "  </tbody>\n",
              "</table>\n",
              "</div>\n",
              "      <button class=\"colab-df-convert\" onclick=\"convertToInteractive('df-961d749a-504e-47f6-8e0a-ccee368cf950')\"\n",
              "              title=\"Convert this dataframe to an interactive table.\"\n",
              "              style=\"display:none;\">\n",
              "        \n",
              "  <svg xmlns=\"http://www.w3.org/2000/svg\" height=\"24px\"viewBox=\"0 0 24 24\"\n",
              "       width=\"24px\">\n",
              "    <path d=\"M0 0h24v24H0V0z\" fill=\"none\"/>\n",
              "    <path d=\"M18.56 5.44l.94 2.06.94-2.06 2.06-.94-2.06-.94-.94-2.06-.94 2.06-2.06.94zm-11 1L8.5 8.5l.94-2.06 2.06-.94-2.06-.94L8.5 2.5l-.94 2.06-2.06.94zm10 10l.94 2.06.94-2.06 2.06-.94-2.06-.94-.94-2.06-.94 2.06-2.06.94z\"/><path d=\"M17.41 7.96l-1.37-1.37c-.4-.4-.92-.59-1.43-.59-.52 0-1.04.2-1.43.59L10.3 9.45l-7.72 7.72c-.78.78-.78 2.05 0 2.83L4 21.41c.39.39.9.59 1.41.59.51 0 1.02-.2 1.41-.59l7.78-7.78 2.81-2.81c.8-.78.8-2.07 0-2.86zM5.41 20L4 18.59l7.72-7.72 1.47 1.35L5.41 20z\"/>\n",
              "  </svg>\n",
              "      </button>\n",
              "      \n",
              "  <style>\n",
              "    .colab-df-container {\n",
              "      display:flex;\n",
              "      flex-wrap:wrap;\n",
              "      gap: 12px;\n",
              "    }\n",
              "\n",
              "    .colab-df-convert {\n",
              "      background-color: #E8F0FE;\n",
              "      border: none;\n",
              "      border-radius: 50%;\n",
              "      cursor: pointer;\n",
              "      display: none;\n",
              "      fill: #1967D2;\n",
              "      height: 32px;\n",
              "      padding: 0 0 0 0;\n",
              "      width: 32px;\n",
              "    }\n",
              "\n",
              "    .colab-df-convert:hover {\n",
              "      background-color: #E2EBFA;\n",
              "      box-shadow: 0px 1px 2px rgba(60, 64, 67, 0.3), 0px 1px 3px 1px rgba(60, 64, 67, 0.15);\n",
              "      fill: #174EA6;\n",
              "    }\n",
              "\n",
              "    [theme=dark] .colab-df-convert {\n",
              "      background-color: #3B4455;\n",
              "      fill: #D2E3FC;\n",
              "    }\n",
              "\n",
              "    [theme=dark] .colab-df-convert:hover {\n",
              "      background-color: #434B5C;\n",
              "      box-shadow: 0px 1px 3px 1px rgba(0, 0, 0, 0.15);\n",
              "      filter: drop-shadow(0px 1px 2px rgba(0, 0, 0, 0.3));\n",
              "      fill: #FFFFFF;\n",
              "    }\n",
              "  </style>\n",
              "\n",
              "      <script>\n",
              "        const buttonEl =\n",
              "          document.querySelector('#df-961d749a-504e-47f6-8e0a-ccee368cf950 button.colab-df-convert');\n",
              "        buttonEl.style.display =\n",
              "          google.colab.kernel.accessAllowed ? 'block' : 'none';\n",
              "\n",
              "        async function convertToInteractive(key) {\n",
              "          const element = document.querySelector('#df-961d749a-504e-47f6-8e0a-ccee368cf950');\n",
              "          const dataTable =\n",
              "            await google.colab.kernel.invokeFunction('convertToInteractive',\n",
              "                                                     [key], {});\n",
              "          if (!dataTable) return;\n",
              "\n",
              "          const docLinkHtml = 'Like what you see? Visit the ' +\n",
              "            '<a target=\"_blank\" href=https://colab.research.google.com/notebooks/data_table.ipynb>data table notebook</a>'\n",
              "            + ' to learn more about interactive tables.';\n",
              "          element.innerHTML = '';\n",
              "          dataTable['output_type'] = 'display_data';\n",
              "          await google.colab.output.renderOutput(dataTable, element);\n",
              "          const docLink = document.createElement('div');\n",
              "          docLink.innerHTML = docLinkHtml;\n",
              "          element.appendChild(docLink);\n",
              "        }\n",
              "      </script>\n",
              "    </div>\n",
              "  </div>\n",
              "  "
            ]
          },
          "metadata": {},
          "execution_count": 17
        }
      ]
    },
    {
      "cell_type": "code",
      "source": [
        "df_temperature.dtypes"
      ],
      "metadata": {
        "colab": {
          "base_uri": "https://localhost:8080/"
        },
        "id": "Offhtiu_NNov",
        "outputId": "ff904faa-4742-4b65-e4e7-df3e1f098d1f"
      },
      "execution_count": 18,
      "outputs": [
        {
          "output_type": "execute_result",
          "data": {
            "text/plain": [
              "지점                                int64\n",
              "지점명                              object\n",
              "일시                       datetime64[ns]\n",
              "평균기온(°C)                        float64\n",
              "평균최고기온(°C)                      float64\n",
              "평균최저기온(°C)                      float64\n",
              "최고기온(°C)                        float64\n",
              "최저기온(°C)                        float64\n",
              "최고기온 나타난날(yyyymmdd)             float64\n",
              "최저기온 나타난날(yyyymmdd)             float64\n",
              "평균풍속(m/s)                       float64\n",
              "최대순간풍속(m/s)                     float64\n",
              "최대순간풍속풍향(deg)                   float64\n",
              "최대순간풍속 나타난날(yyyymmdd)           float64\n",
              "월강수량합(mm)                       float64\n",
              "dtype: object"
            ]
          },
          "metadata": {},
          "execution_count": 18
        }
      ]
    },
    {
      "cell_type": "markdown",
      "source": [
        "#**2. 데이터 정제**\n"
      ],
      "metadata": {
        "id": "vvcD8SnXNbsg"
      }
    },
    {
      "cell_type": "markdown",
      "source": [
        "#**2.1 결측값 확인**"
      ],
      "metadata": {
        "id": "XBd9yvVlNiV_"
      }
    },
    {
      "cell_type": "code",
      "source": [
        "#열 이름 출력\n",
        "df_disease.columns.values"
      ],
      "metadata": {
        "colab": {
          "base_uri": "https://localhost:8080/"
        },
        "id": "DW2sryAPN3XW",
        "outputId": "89aea0c2-aaea-4eb6-fb16-39a3370a24d2"
      },
      "execution_count": 6,
      "outputs": [
        {
          "output_type": "execute_result",
          "data": {
            "text/plain": [
              "array(['연도', '분기구분', '질병명', '현황', '비고'], dtype=object)"
            ]
          },
          "metadata": {},
          "execution_count": 6
        }
      ]
    },
    {
      "cell_type": "code",
      "source": [
        "# 결측값 확인\n",
        "df_disease[['연도', '분기구분', '질병명', '현황', '비고']].isna().sum()"
      ],
      "metadata": {
        "colab": {
          "base_uri": "https://localhost:8080/"
        },
        "id": "o0zCbKm-OGIo",
        "outputId": "4961a974-ade0-4d22-e89c-c50c027beb67"
      },
      "execution_count": 7,
      "outputs": [
        {
          "output_type": "execute_result",
          "data": {
            "text/plain": [
              "연도      0\n",
              "분기구분    0\n",
              "질병명     0\n",
              "현황      0\n",
              "비고      0\n",
              "dtype: int64"
            ]
          },
          "metadata": {},
          "execution_count": 7
        }
      ]
    },
    {
      "cell_type": "code",
      "source": [
        "#열 이름 출력\n",
        "df_temperature.columns.values"
      ],
      "metadata": {
        "colab": {
          "base_uri": "https://localhost:8080/"
        },
        "id": "2q9JpDfeOWAL",
        "outputId": "64c59f08-b86f-4326-bfbd-c7c8d407fea8"
      },
      "execution_count": 8,
      "outputs": [
        {
          "output_type": "execute_result",
          "data": {
            "text/plain": [
              "array(['지점', '지점명', '일시', '평균기온(°C)', '평균최고기온(°C)', '평균최저기온(°C)',\n",
              "       '최고기온(°C)', '최저기온(°C)', '최고기온 나타난날(yyyymmdd)',\n",
              "       '최저기온 나타난날(yyyymmdd)', '평균풍속(m/s)', '최대순간풍속(m/s)', '최대순간풍속풍향(deg)',\n",
              "       '최대순간풍속 나타난날(yyyymmdd)', '월강수량합(mm)'], dtype=object)"
            ]
          },
          "metadata": {},
          "execution_count": 8
        }
      ]
    },
    {
      "cell_type": "code",
      "source": [
        "# 결측값 확인\n",
        "df_temperature[['지점', '지점명', '일시', '평균기온(°C)', '평균최고기온(°C)', '평균최저기온(°C)',\n",
        "       '최고기온(°C)', '최저기온(°C)', '최고기온 나타난날(yyyymmdd)',\n",
        "       '최저기온 나타난날(yyyymmdd)', '평균풍속(m/s)', '최대순간풍속(m/s)', '최대순간풍속풍향(deg)',\n",
        "       '최대순간풍속 나타난날(yyyymmdd)', '월강수량합(mm)']].isna().sum()"
      ],
      "metadata": {
        "colab": {
          "base_uri": "https://localhost:8080/"
        },
        "id": "GTYYUsXYONmn",
        "outputId": "4aa09eda-b440-43d6-fab4-9165fc597b0a"
      },
      "execution_count": 9,
      "outputs": [
        {
          "output_type": "execute_result",
          "data": {
            "text/plain": [
              "지점                         0\n",
              "지점명                        0\n",
              "일시                         0\n",
              "평균기온(°C)                 375\n",
              "평균최고기온(°C)               414\n",
              "평균최저기온(°C)               414\n",
              "최고기온(°C)                  49\n",
              "최저기온(°C)                  49\n",
              "최고기온 나타난날(yyyymmdd)       49\n",
              "최저기온 나타난날(yyyymmdd)       49\n",
              "평균풍속(m/s)                560\n",
              "최대순간풍속(m/s)               55\n",
              "최대순간풍속풍향(deg)            325\n",
              "최대순간풍속 나타난날(yyyymmdd)     55\n",
              "월강수량합(mm)                  1\n",
              "dtype: int64"
            ]
          },
          "metadata": {},
          "execution_count": 9
        }
      ]
    },
    {
      "cell_type": "code",
      "source": [
        "# 뒷 행 데이터로 결측치 채우기.\n",
        "# 각 열의 평균 값으로 결측치 채우기 => df.fillna(df.mean())\t\n",
        "# 앞 행의 값으로 결측치 채우기 => df.fillna(method='bfill')\t\n",
        "df_temperature.fillna(method='ffill', inplace = True)"
      ],
      "metadata": {
        "id": "Zg9yUae0OoRM"
      },
      "execution_count": 11,
      "outputs": []
    },
    {
      "cell_type": "code",
      "source": [
        "df_temperature[['지점', '지점명', '일시', '평균기온(°C)', '평균최고기온(°C)', '평균최저기온(°C)',\n",
        "       '최고기온(°C)', '최저기온(°C)', '최고기온 나타난날(yyyymmdd)',\n",
        "       '최저기온 나타난날(yyyymmdd)', '평균풍속(m/s)', '최대순간풍속(m/s)', '최대순간풍속풍향(deg)',\n",
        "       '최대순간풍속 나타난날(yyyymmdd)', '월강수량합(mm)']].isna().sum()"
      ],
      "metadata": {
        "colab": {
          "base_uri": "https://localhost:8080/"
        },
        "id": "BFTvLkvPO02l",
        "outputId": "ee7ad228-44ad-47d4-ff5b-e0740c419bd3"
      },
      "execution_count": 12,
      "outputs": [
        {
          "output_type": "execute_result",
          "data": {
            "text/plain": [
              "지점                       0\n",
              "지점명                      0\n",
              "일시                       0\n",
              "평균기온(°C)                 0\n",
              "평균최고기온(°C)               0\n",
              "평균최저기온(°C)               0\n",
              "최고기온(°C)                 0\n",
              "최저기온(°C)                 0\n",
              "최고기온 나타난날(yyyymmdd)      0\n",
              "최저기온 나타난날(yyyymmdd)      0\n",
              "평균풍속(m/s)                0\n",
              "최대순간풍속(m/s)              0\n",
              "최대순간풍속풍향(deg)            0\n",
              "최대순간풍속 나타난날(yyyymmdd)    0\n",
              "월강수량합(mm)                0\n",
              "dtype: int64"
            ]
          },
          "metadata": {},
          "execution_count": 12
        }
      ]
    },
    {
      "cell_type": "markdown",
      "source": [
        "#**3. 데이터 시각화**"
      ],
      "metadata": {
        "id": "b6EqF9jTQH-J"
      }
    },
    {
      "cell_type": "markdown",
      "source": [
        "분기별 감염병 데이터의 시각화\n",
        "분기별 감염병 현황 그래프"
      ],
      "metadata": {
        "id": "2ecKJWXcQKtJ"
      }
    },
    {
      "cell_type": "markdown",
      "source": [
        "##**3.1 분기별 감염병 현황 시각화**"
      ],
      "metadata": {
        "id": "OSqxaFPYQPHC"
      }
    },
    {
      "cell_type": "markdown",
      "source": [
        "*   군 감염병 정보의 현황 컬럼 데이터를 시각화\n",
        "*   분기별로 처리하기 위해 연도와 분기구분 컬럼 데이터를 인덱스로 만들어서 처리"
      ],
      "metadata": {
        "id": "bZxZP3-7QRiB"
      }
    },
    {
      "cell_type": "code",
      "source": [
        "# 연도와 분기구분 별로 데이터 합계 구하기\n",
        "df_disease2 = df_disease.groupby(['연도', '분기구분'])['현황'].sum()\n",
        "df_disease2"
      ],
      "metadata": {
        "colab": {
          "base_uri": "https://localhost:8080/"
        },
        "id": "j4y1beXOQcTk",
        "outputId": "93e50b1f-45fe-4f30-ec0c-058ba489b62e"
      },
      "execution_count": 13,
      "outputs": [
        {
          "output_type": "execute_result",
          "data": {
            "text/plain": [
              "연도    분기구분\n",
              "2015  2       285\n",
              "      3       206\n",
              "      4       211\n",
              "2016  1       167\n",
              "      2       229\n",
              "      3       213\n",
              "      4       161\n",
              "2017  1       197\n",
              "      2       208\n",
              "      3       196\n",
              "      4       139\n",
              "2018  1       112\n",
              "      2       194\n",
              "      3       526\n",
              "      4       735\n",
              "2019  1       612\n",
              "      2       756\n",
              "      3       586\n",
              "      4        99\n",
              "2020  1        52\n",
              "      2        50\n",
              "      3        66\n",
              "      4        39\n",
              "2021  1        32\n",
              "      2        44\n",
              "      3        44\n",
              "      4        26\n",
              "Name: 현황, dtype: int64"
            ]
          },
          "metadata": {},
          "execution_count": 13
        }
      ]
    },
    {
      "cell_type": "code",
      "source": [
        "# 인덱스 재설정\n",
        "df_temp = df_disease2.reset_index()"
      ],
      "metadata": {
        "id": "zxEueO2wWbXt"
      },
      "execution_count": 14,
      "outputs": []
    },
    {
      "cell_type": "code",
      "source": [
        "df_temp"
      ],
      "metadata": {
        "colab": {
          "base_uri": "https://localhost:8080/",
          "height": 895
        },
        "id": "r6PMtpixWh2F",
        "outputId": "b751baac-5226-4366-e265-ea67ae2b6507"
      },
      "execution_count": 15,
      "outputs": [
        {
          "output_type": "execute_result",
          "data": {
            "text/plain": [
              "      연도  분기구분   현황\n",
              "0   2015     2  285\n",
              "1   2015     3  206\n",
              "2   2015     4  211\n",
              "3   2016     1  167\n",
              "4   2016     2  229\n",
              "5   2016     3  213\n",
              "6   2016     4  161\n",
              "7   2017     1  197\n",
              "8   2017     2  208\n",
              "9   2017     3  196\n",
              "10  2017     4  139\n",
              "11  2018     1  112\n",
              "12  2018     2  194\n",
              "13  2018     3  526\n",
              "14  2018     4  735\n",
              "15  2019     1  612\n",
              "16  2019     2  756\n",
              "17  2019     3  586\n",
              "18  2019     4   99\n",
              "19  2020     1   52\n",
              "20  2020     2   50\n",
              "21  2020     3   66\n",
              "22  2020     4   39\n",
              "23  2021     1   32\n",
              "24  2021     2   44\n",
              "25  2021     3   44\n",
              "26  2021     4   26"
            ],
            "text/html": [
              "\n",
              "  <div id=\"df-f63d0ef8-35bd-42fb-84ba-cda6a1b91a9d\">\n",
              "    <div class=\"colab-df-container\">\n",
              "      <div>\n",
              "<style scoped>\n",
              "    .dataframe tbody tr th:only-of-type {\n",
              "        vertical-align: middle;\n",
              "    }\n",
              "\n",
              "    .dataframe tbody tr th {\n",
              "        vertical-align: top;\n",
              "    }\n",
              "\n",
              "    .dataframe thead th {\n",
              "        text-align: right;\n",
              "    }\n",
              "</style>\n",
              "<table border=\"1\" class=\"dataframe\">\n",
              "  <thead>\n",
              "    <tr style=\"text-align: right;\">\n",
              "      <th></th>\n",
              "      <th>연도</th>\n",
              "      <th>분기구분</th>\n",
              "      <th>현황</th>\n",
              "    </tr>\n",
              "  </thead>\n",
              "  <tbody>\n",
              "    <tr>\n",
              "      <th>0</th>\n",
              "      <td>2015</td>\n",
              "      <td>2</td>\n",
              "      <td>285</td>\n",
              "    </tr>\n",
              "    <tr>\n",
              "      <th>1</th>\n",
              "      <td>2015</td>\n",
              "      <td>3</td>\n",
              "      <td>206</td>\n",
              "    </tr>\n",
              "    <tr>\n",
              "      <th>2</th>\n",
              "      <td>2015</td>\n",
              "      <td>4</td>\n",
              "      <td>211</td>\n",
              "    </tr>\n",
              "    <tr>\n",
              "      <th>3</th>\n",
              "      <td>2016</td>\n",
              "      <td>1</td>\n",
              "      <td>167</td>\n",
              "    </tr>\n",
              "    <tr>\n",
              "      <th>4</th>\n",
              "      <td>2016</td>\n",
              "      <td>2</td>\n",
              "      <td>229</td>\n",
              "    </tr>\n",
              "    <tr>\n",
              "      <th>5</th>\n",
              "      <td>2016</td>\n",
              "      <td>3</td>\n",
              "      <td>213</td>\n",
              "    </tr>\n",
              "    <tr>\n",
              "      <th>6</th>\n",
              "      <td>2016</td>\n",
              "      <td>4</td>\n",
              "      <td>161</td>\n",
              "    </tr>\n",
              "    <tr>\n",
              "      <th>7</th>\n",
              "      <td>2017</td>\n",
              "      <td>1</td>\n",
              "      <td>197</td>\n",
              "    </tr>\n",
              "    <tr>\n",
              "      <th>8</th>\n",
              "      <td>2017</td>\n",
              "      <td>2</td>\n",
              "      <td>208</td>\n",
              "    </tr>\n",
              "    <tr>\n",
              "      <th>9</th>\n",
              "      <td>2017</td>\n",
              "      <td>3</td>\n",
              "      <td>196</td>\n",
              "    </tr>\n",
              "    <tr>\n",
              "      <th>10</th>\n",
              "      <td>2017</td>\n",
              "      <td>4</td>\n",
              "      <td>139</td>\n",
              "    </tr>\n",
              "    <tr>\n",
              "      <th>11</th>\n",
              "      <td>2018</td>\n",
              "      <td>1</td>\n",
              "      <td>112</td>\n",
              "    </tr>\n",
              "    <tr>\n",
              "      <th>12</th>\n",
              "      <td>2018</td>\n",
              "      <td>2</td>\n",
              "      <td>194</td>\n",
              "    </tr>\n",
              "    <tr>\n",
              "      <th>13</th>\n",
              "      <td>2018</td>\n",
              "      <td>3</td>\n",
              "      <td>526</td>\n",
              "    </tr>\n",
              "    <tr>\n",
              "      <th>14</th>\n",
              "      <td>2018</td>\n",
              "      <td>4</td>\n",
              "      <td>735</td>\n",
              "    </tr>\n",
              "    <tr>\n",
              "      <th>15</th>\n",
              "      <td>2019</td>\n",
              "      <td>1</td>\n",
              "      <td>612</td>\n",
              "    </tr>\n",
              "    <tr>\n",
              "      <th>16</th>\n",
              "      <td>2019</td>\n",
              "      <td>2</td>\n",
              "      <td>756</td>\n",
              "    </tr>\n",
              "    <tr>\n",
              "      <th>17</th>\n",
              "      <td>2019</td>\n",
              "      <td>3</td>\n",
              "      <td>586</td>\n",
              "    </tr>\n",
              "    <tr>\n",
              "      <th>18</th>\n",
              "      <td>2019</td>\n",
              "      <td>4</td>\n",
              "      <td>99</td>\n",
              "    </tr>\n",
              "    <tr>\n",
              "      <th>19</th>\n",
              "      <td>2020</td>\n",
              "      <td>1</td>\n",
              "      <td>52</td>\n",
              "    </tr>\n",
              "    <tr>\n",
              "      <th>20</th>\n",
              "      <td>2020</td>\n",
              "      <td>2</td>\n",
              "      <td>50</td>\n",
              "    </tr>\n",
              "    <tr>\n",
              "      <th>21</th>\n",
              "      <td>2020</td>\n",
              "      <td>3</td>\n",
              "      <td>66</td>\n",
              "    </tr>\n",
              "    <tr>\n",
              "      <th>22</th>\n",
              "      <td>2020</td>\n",
              "      <td>4</td>\n",
              "      <td>39</td>\n",
              "    </tr>\n",
              "    <tr>\n",
              "      <th>23</th>\n",
              "      <td>2021</td>\n",
              "      <td>1</td>\n",
              "      <td>32</td>\n",
              "    </tr>\n",
              "    <tr>\n",
              "      <th>24</th>\n",
              "      <td>2021</td>\n",
              "      <td>2</td>\n",
              "      <td>44</td>\n",
              "    </tr>\n",
              "    <tr>\n",
              "      <th>25</th>\n",
              "      <td>2021</td>\n",
              "      <td>3</td>\n",
              "      <td>44</td>\n",
              "    </tr>\n",
              "    <tr>\n",
              "      <th>26</th>\n",
              "      <td>2021</td>\n",
              "      <td>4</td>\n",
              "      <td>26</td>\n",
              "    </tr>\n",
              "  </tbody>\n",
              "</table>\n",
              "</div>\n",
              "      <button class=\"colab-df-convert\" onclick=\"convertToInteractive('df-f63d0ef8-35bd-42fb-84ba-cda6a1b91a9d')\"\n",
              "              title=\"Convert this dataframe to an interactive table.\"\n",
              "              style=\"display:none;\">\n",
              "        \n",
              "  <svg xmlns=\"http://www.w3.org/2000/svg\" height=\"24px\"viewBox=\"0 0 24 24\"\n",
              "       width=\"24px\">\n",
              "    <path d=\"M0 0h24v24H0V0z\" fill=\"none\"/>\n",
              "    <path d=\"M18.56 5.44l.94 2.06.94-2.06 2.06-.94-2.06-.94-.94-2.06-.94 2.06-2.06.94zm-11 1L8.5 8.5l.94-2.06 2.06-.94-2.06-.94L8.5 2.5l-.94 2.06-2.06.94zm10 10l.94 2.06.94-2.06 2.06-.94-2.06-.94-.94-2.06-.94 2.06-2.06.94z\"/><path d=\"M17.41 7.96l-1.37-1.37c-.4-.4-.92-.59-1.43-.59-.52 0-1.04.2-1.43.59L10.3 9.45l-7.72 7.72c-.78.78-.78 2.05 0 2.83L4 21.41c.39.39.9.59 1.41.59.51 0 1.02-.2 1.41-.59l7.78-7.78 2.81-2.81c.8-.78.8-2.07 0-2.86zM5.41 20L4 18.59l7.72-7.72 1.47 1.35L5.41 20z\"/>\n",
              "  </svg>\n",
              "      </button>\n",
              "      \n",
              "  <style>\n",
              "    .colab-df-container {\n",
              "      display:flex;\n",
              "      flex-wrap:wrap;\n",
              "      gap: 12px;\n",
              "    }\n",
              "\n",
              "    .colab-df-convert {\n",
              "      background-color: #E8F0FE;\n",
              "      border: none;\n",
              "      border-radius: 50%;\n",
              "      cursor: pointer;\n",
              "      display: none;\n",
              "      fill: #1967D2;\n",
              "      height: 32px;\n",
              "      padding: 0 0 0 0;\n",
              "      width: 32px;\n",
              "    }\n",
              "\n",
              "    .colab-df-convert:hover {\n",
              "      background-color: #E2EBFA;\n",
              "      box-shadow: 0px 1px 2px rgba(60, 64, 67, 0.3), 0px 1px 3px 1px rgba(60, 64, 67, 0.15);\n",
              "      fill: #174EA6;\n",
              "    }\n",
              "\n",
              "    [theme=dark] .colab-df-convert {\n",
              "      background-color: #3B4455;\n",
              "      fill: #D2E3FC;\n",
              "    }\n",
              "\n",
              "    [theme=dark] .colab-df-convert:hover {\n",
              "      background-color: #434B5C;\n",
              "      box-shadow: 0px 1px 3px 1px rgba(0, 0, 0, 0.15);\n",
              "      filter: drop-shadow(0px 1px 2px rgba(0, 0, 0, 0.3));\n",
              "      fill: #FFFFFF;\n",
              "    }\n",
              "  </style>\n",
              "\n",
              "      <script>\n",
              "        const buttonEl =\n",
              "          document.querySelector('#df-f63d0ef8-35bd-42fb-84ba-cda6a1b91a9d button.colab-df-convert');\n",
              "        buttonEl.style.display =\n",
              "          google.colab.kernel.accessAllowed ? 'block' : 'none';\n",
              "\n",
              "        async function convertToInteractive(key) {\n",
              "          const element = document.querySelector('#df-f63d0ef8-35bd-42fb-84ba-cda6a1b91a9d');\n",
              "          const dataTable =\n",
              "            await google.colab.kernel.invokeFunction('convertToInteractive',\n",
              "                                                     [key], {});\n",
              "          if (!dataTable) return;\n",
              "\n",
              "          const docLinkHtml = 'Like what you see? Visit the ' +\n",
              "            '<a target=\"_blank\" href=https://colab.research.google.com/notebooks/data_table.ipynb>data table notebook</a>'\n",
              "            + ' to learn more about interactive tables.';\n",
              "          element.innerHTML = '';\n",
              "          dataTable['output_type'] = 'display_data';\n",
              "          await google.colab.output.renderOutput(dataTable, element);\n",
              "          const docLink = document.createElement('div');\n",
              "          docLink.innerHTML = docLinkHtml;\n",
              "          element.appendChild(docLink);\n",
              "        }\n",
              "      </script>\n",
              "    </div>\n",
              "  </div>\n",
              "  "
            ]
          },
          "metadata": {},
          "execution_count": 15
        }
      ]
    },
    {
      "cell_type": "code",
      "source": [
        "df_temp.dtypes"
      ],
      "metadata": {
        "colab": {
          "base_uri": "https://localhost:8080/"
        },
        "id": "MnA8aXHvWpuV",
        "outputId": "6dffe062-429c-45c0-f501-f172d2441cbc"
      },
      "execution_count": 16,
      "outputs": [
        {
          "output_type": "execute_result",
          "data": {
            "text/plain": [
              "연도      int64\n",
              "분기구분    int64\n",
              "현황      int64\n",
              "dtype: object"
            ]
          },
          "metadata": {},
          "execution_count": 16
        }
      ]
    },
    {
      "cell_type": "code",
      "source": [
        "df_temp['분기'] = df_temp['연도'].astype(str) + '-' + df_temp['분기구분'].astype(str)\n",
        "df_temp"
      ],
      "metadata": {
        "colab": {
          "base_uri": "https://localhost:8080/",
          "height": 895
        },
        "id": "fnafHA_iW4X1",
        "outputId": "60f822d6-2273-468d-82a9-a44092f8cab4"
      },
      "execution_count": 17,
      "outputs": [
        {
          "output_type": "execute_result",
          "data": {
            "text/plain": [
              "      연도  분기구분   현황      분기\n",
              "0   2015     2  285  2015-2\n",
              "1   2015     3  206  2015-3\n",
              "2   2015     4  211  2015-4\n",
              "3   2016     1  167  2016-1\n",
              "4   2016     2  229  2016-2\n",
              "5   2016     3  213  2016-3\n",
              "6   2016     4  161  2016-4\n",
              "7   2017     1  197  2017-1\n",
              "8   2017     2  208  2017-2\n",
              "9   2017     3  196  2017-3\n",
              "10  2017     4  139  2017-4\n",
              "11  2018     1  112  2018-1\n",
              "12  2018     2  194  2018-2\n",
              "13  2018     3  526  2018-3\n",
              "14  2018     4  735  2018-4\n",
              "15  2019     1  612  2019-1\n",
              "16  2019     2  756  2019-2\n",
              "17  2019     3  586  2019-3\n",
              "18  2019     4   99  2019-4\n",
              "19  2020     1   52  2020-1\n",
              "20  2020     2   50  2020-2\n",
              "21  2020     3   66  2020-3\n",
              "22  2020     4   39  2020-4\n",
              "23  2021     1   32  2021-1\n",
              "24  2021     2   44  2021-2\n",
              "25  2021     3   44  2021-3\n",
              "26  2021     4   26  2021-4"
            ],
            "text/html": [
              "\n",
              "  <div id=\"df-fb2c5804-2998-408e-966c-1e45299e9fc5\">\n",
              "    <div class=\"colab-df-container\">\n",
              "      <div>\n",
              "<style scoped>\n",
              "    .dataframe tbody tr th:only-of-type {\n",
              "        vertical-align: middle;\n",
              "    }\n",
              "\n",
              "    .dataframe tbody tr th {\n",
              "        vertical-align: top;\n",
              "    }\n",
              "\n",
              "    .dataframe thead th {\n",
              "        text-align: right;\n",
              "    }\n",
              "</style>\n",
              "<table border=\"1\" class=\"dataframe\">\n",
              "  <thead>\n",
              "    <tr style=\"text-align: right;\">\n",
              "      <th></th>\n",
              "      <th>연도</th>\n",
              "      <th>분기구분</th>\n",
              "      <th>현황</th>\n",
              "      <th>분기</th>\n",
              "    </tr>\n",
              "  </thead>\n",
              "  <tbody>\n",
              "    <tr>\n",
              "      <th>0</th>\n",
              "      <td>2015</td>\n",
              "      <td>2</td>\n",
              "      <td>285</td>\n",
              "      <td>2015-2</td>\n",
              "    </tr>\n",
              "    <tr>\n",
              "      <th>1</th>\n",
              "      <td>2015</td>\n",
              "      <td>3</td>\n",
              "      <td>206</td>\n",
              "      <td>2015-3</td>\n",
              "    </tr>\n",
              "    <tr>\n",
              "      <th>2</th>\n",
              "      <td>2015</td>\n",
              "      <td>4</td>\n",
              "      <td>211</td>\n",
              "      <td>2015-4</td>\n",
              "    </tr>\n",
              "    <tr>\n",
              "      <th>3</th>\n",
              "      <td>2016</td>\n",
              "      <td>1</td>\n",
              "      <td>167</td>\n",
              "      <td>2016-1</td>\n",
              "    </tr>\n",
              "    <tr>\n",
              "      <th>4</th>\n",
              "      <td>2016</td>\n",
              "      <td>2</td>\n",
              "      <td>229</td>\n",
              "      <td>2016-2</td>\n",
              "    </tr>\n",
              "    <tr>\n",
              "      <th>5</th>\n",
              "      <td>2016</td>\n",
              "      <td>3</td>\n",
              "      <td>213</td>\n",
              "      <td>2016-3</td>\n",
              "    </tr>\n",
              "    <tr>\n",
              "      <th>6</th>\n",
              "      <td>2016</td>\n",
              "      <td>4</td>\n",
              "      <td>161</td>\n",
              "      <td>2016-4</td>\n",
              "    </tr>\n",
              "    <tr>\n",
              "      <th>7</th>\n",
              "      <td>2017</td>\n",
              "      <td>1</td>\n",
              "      <td>197</td>\n",
              "      <td>2017-1</td>\n",
              "    </tr>\n",
              "    <tr>\n",
              "      <th>8</th>\n",
              "      <td>2017</td>\n",
              "      <td>2</td>\n",
              "      <td>208</td>\n",
              "      <td>2017-2</td>\n",
              "    </tr>\n",
              "    <tr>\n",
              "      <th>9</th>\n",
              "      <td>2017</td>\n",
              "      <td>3</td>\n",
              "      <td>196</td>\n",
              "      <td>2017-3</td>\n",
              "    </tr>\n",
              "    <tr>\n",
              "      <th>10</th>\n",
              "      <td>2017</td>\n",
              "      <td>4</td>\n",
              "      <td>139</td>\n",
              "      <td>2017-4</td>\n",
              "    </tr>\n",
              "    <tr>\n",
              "      <th>11</th>\n",
              "      <td>2018</td>\n",
              "      <td>1</td>\n",
              "      <td>112</td>\n",
              "      <td>2018-1</td>\n",
              "    </tr>\n",
              "    <tr>\n",
              "      <th>12</th>\n",
              "      <td>2018</td>\n",
              "      <td>2</td>\n",
              "      <td>194</td>\n",
              "      <td>2018-2</td>\n",
              "    </tr>\n",
              "    <tr>\n",
              "      <th>13</th>\n",
              "      <td>2018</td>\n",
              "      <td>3</td>\n",
              "      <td>526</td>\n",
              "      <td>2018-3</td>\n",
              "    </tr>\n",
              "    <tr>\n",
              "      <th>14</th>\n",
              "      <td>2018</td>\n",
              "      <td>4</td>\n",
              "      <td>735</td>\n",
              "      <td>2018-4</td>\n",
              "    </tr>\n",
              "    <tr>\n",
              "      <th>15</th>\n",
              "      <td>2019</td>\n",
              "      <td>1</td>\n",
              "      <td>612</td>\n",
              "      <td>2019-1</td>\n",
              "    </tr>\n",
              "    <tr>\n",
              "      <th>16</th>\n",
              "      <td>2019</td>\n",
              "      <td>2</td>\n",
              "      <td>756</td>\n",
              "      <td>2019-2</td>\n",
              "    </tr>\n",
              "    <tr>\n",
              "      <th>17</th>\n",
              "      <td>2019</td>\n",
              "      <td>3</td>\n",
              "      <td>586</td>\n",
              "      <td>2019-3</td>\n",
              "    </tr>\n",
              "    <tr>\n",
              "      <th>18</th>\n",
              "      <td>2019</td>\n",
              "      <td>4</td>\n",
              "      <td>99</td>\n",
              "      <td>2019-4</td>\n",
              "    </tr>\n",
              "    <tr>\n",
              "      <th>19</th>\n",
              "      <td>2020</td>\n",
              "      <td>1</td>\n",
              "      <td>52</td>\n",
              "      <td>2020-1</td>\n",
              "    </tr>\n",
              "    <tr>\n",
              "      <th>20</th>\n",
              "      <td>2020</td>\n",
              "      <td>2</td>\n",
              "      <td>50</td>\n",
              "      <td>2020-2</td>\n",
              "    </tr>\n",
              "    <tr>\n",
              "      <th>21</th>\n",
              "      <td>2020</td>\n",
              "      <td>3</td>\n",
              "      <td>66</td>\n",
              "      <td>2020-3</td>\n",
              "    </tr>\n",
              "    <tr>\n",
              "      <th>22</th>\n",
              "      <td>2020</td>\n",
              "      <td>4</td>\n",
              "      <td>39</td>\n",
              "      <td>2020-4</td>\n",
              "    </tr>\n",
              "    <tr>\n",
              "      <th>23</th>\n",
              "      <td>2021</td>\n",
              "      <td>1</td>\n",
              "      <td>32</td>\n",
              "      <td>2021-1</td>\n",
              "    </tr>\n",
              "    <tr>\n",
              "      <th>24</th>\n",
              "      <td>2021</td>\n",
              "      <td>2</td>\n",
              "      <td>44</td>\n",
              "      <td>2021-2</td>\n",
              "    </tr>\n",
              "    <tr>\n",
              "      <th>25</th>\n",
              "      <td>2021</td>\n",
              "      <td>3</td>\n",
              "      <td>44</td>\n",
              "      <td>2021-3</td>\n",
              "    </tr>\n",
              "    <tr>\n",
              "      <th>26</th>\n",
              "      <td>2021</td>\n",
              "      <td>4</td>\n",
              "      <td>26</td>\n",
              "      <td>2021-4</td>\n",
              "    </tr>\n",
              "  </tbody>\n",
              "</table>\n",
              "</div>\n",
              "      <button class=\"colab-df-convert\" onclick=\"convertToInteractive('df-fb2c5804-2998-408e-966c-1e45299e9fc5')\"\n",
              "              title=\"Convert this dataframe to an interactive table.\"\n",
              "              style=\"display:none;\">\n",
              "        \n",
              "  <svg xmlns=\"http://www.w3.org/2000/svg\" height=\"24px\"viewBox=\"0 0 24 24\"\n",
              "       width=\"24px\">\n",
              "    <path d=\"M0 0h24v24H0V0z\" fill=\"none\"/>\n",
              "    <path d=\"M18.56 5.44l.94 2.06.94-2.06 2.06-.94-2.06-.94-.94-2.06-.94 2.06-2.06.94zm-11 1L8.5 8.5l.94-2.06 2.06-.94-2.06-.94L8.5 2.5l-.94 2.06-2.06.94zm10 10l.94 2.06.94-2.06 2.06-.94-2.06-.94-.94-2.06-.94 2.06-2.06.94z\"/><path d=\"M17.41 7.96l-1.37-1.37c-.4-.4-.92-.59-1.43-.59-.52 0-1.04.2-1.43.59L10.3 9.45l-7.72 7.72c-.78.78-.78 2.05 0 2.83L4 21.41c.39.39.9.59 1.41.59.51 0 1.02-.2 1.41-.59l7.78-7.78 2.81-2.81c.8-.78.8-2.07 0-2.86zM5.41 20L4 18.59l7.72-7.72 1.47 1.35L5.41 20z\"/>\n",
              "  </svg>\n",
              "      </button>\n",
              "      \n",
              "  <style>\n",
              "    .colab-df-container {\n",
              "      display:flex;\n",
              "      flex-wrap:wrap;\n",
              "      gap: 12px;\n",
              "    }\n",
              "\n",
              "    .colab-df-convert {\n",
              "      background-color: #E8F0FE;\n",
              "      border: none;\n",
              "      border-radius: 50%;\n",
              "      cursor: pointer;\n",
              "      display: none;\n",
              "      fill: #1967D2;\n",
              "      height: 32px;\n",
              "      padding: 0 0 0 0;\n",
              "      width: 32px;\n",
              "    }\n",
              "\n",
              "    .colab-df-convert:hover {\n",
              "      background-color: #E2EBFA;\n",
              "      box-shadow: 0px 1px 2px rgba(60, 64, 67, 0.3), 0px 1px 3px 1px rgba(60, 64, 67, 0.15);\n",
              "      fill: #174EA6;\n",
              "    }\n",
              "\n",
              "    [theme=dark] .colab-df-convert {\n",
              "      background-color: #3B4455;\n",
              "      fill: #D2E3FC;\n",
              "    }\n",
              "\n",
              "    [theme=dark] .colab-df-convert:hover {\n",
              "      background-color: #434B5C;\n",
              "      box-shadow: 0px 1px 3px 1px rgba(0, 0, 0, 0.15);\n",
              "      filter: drop-shadow(0px 1px 2px rgba(0, 0, 0, 0.3));\n",
              "      fill: #FFFFFF;\n",
              "    }\n",
              "  </style>\n",
              "\n",
              "      <script>\n",
              "        const buttonEl =\n",
              "          document.querySelector('#df-fb2c5804-2998-408e-966c-1e45299e9fc5 button.colab-df-convert');\n",
              "        buttonEl.style.display =\n",
              "          google.colab.kernel.accessAllowed ? 'block' : 'none';\n",
              "\n",
              "        async function convertToInteractive(key) {\n",
              "          const element = document.querySelector('#df-fb2c5804-2998-408e-966c-1e45299e9fc5');\n",
              "          const dataTable =\n",
              "            await google.colab.kernel.invokeFunction('convertToInteractive',\n",
              "                                                     [key], {});\n",
              "          if (!dataTable) return;\n",
              "\n",
              "          const docLinkHtml = 'Like what you see? Visit the ' +\n",
              "            '<a target=\"_blank\" href=https://colab.research.google.com/notebooks/data_table.ipynb>data table notebook</a>'\n",
              "            + ' to learn more about interactive tables.';\n",
              "          element.innerHTML = '';\n",
              "          dataTable['output_type'] = 'display_data';\n",
              "          await google.colab.output.renderOutput(dataTable, element);\n",
              "          const docLink = document.createElement('div');\n",
              "          docLink.innerHTML = docLinkHtml;\n",
              "          element.appendChild(docLink);\n",
              "        }\n",
              "      </script>\n",
              "    </div>\n",
              "  </div>\n",
              "  "
            ]
          },
          "metadata": {},
          "execution_count": 17
        }
      ]
    },
    {
      "cell_type": "code",
      "source": [
        " # 그래프 스타일 지정하기\n",
        "plt.style.use('seaborn-whitegrid')\n",
        "plt.rc('font', family = 'NanumGothic') # 한글 설정\n",
        "\n",
        "#그래프 속성 지정하기\n",
        "fig, ax = plt.subplots(1, figsize = (10,6))\n",
        "\n",
        "# X축, Y축 지정하기\n",
        "x = df_temp.분기\n",
        "y = df_temp.현황\n",
        "\n",
        "# 그래프 데이터와 속성 설정하기\n",
        "plt.plot(x,y, color = 'red', linestyle ='-', marker = 'o', mfc = 'blue')\n",
        "\n",
        "fig.autofmt_xdate()\n",
        "\n",
        "#그래프 제목 및 속성 설정하기\n",
        "plt.title('분기별 군 감염병 현황',fontdict = {'fontsize' : 20, 'weight': 'bold'})\n",
        "\n",
        "#X축, Y축 제목 설정하기\n",
        "plt.xlabel('분기', fontdict ={'fontsize' : 14})\n",
        "plt.ylabel('현황', fontdict ={'fontsize' : 14})\n",
        "\n",
        "#그래프 안에 레전드 넣기\n",
        "plt.legend(['감염병 현황'], frameon = True, fontsize = 'x-large')\n",
        "\n",
        "plt.tight_layout()"
      ],
      "metadata": {
        "colab": {
          "base_uri": "https://localhost:8080/",
          "height": 498
        },
        "id": "2JghrFWRXX3X",
        "outputId": "522abc30-755a-4dab-c8de-8784775f339b"
      },
      "execution_count": 19,
      "outputs": [
        {
          "output_type": "stream",
          "name": "stderr",
          "text": [
            "<ipython-input-19-b8080baff64d>:2: MatplotlibDeprecationWarning: The seaborn styles shipped by Matplotlib are deprecated since 3.6, as they no longer correspond to the styles shipped by seaborn. However, they will remain available as 'seaborn-v0_8-<style>'. Alternatively, directly use the seaborn API instead.\n",
            "  plt.style.use('seaborn-whitegrid')\n"
          ]
        },
        {
          "output_type": "display_data",
          "data": {
            "text/plain": [
              "<Figure size 720x432 with 1 Axes>"
            ],
            "image/png": "[encoded data removed]"
          },
          "metadata": {}
        }
      ]
    }
  ]
}