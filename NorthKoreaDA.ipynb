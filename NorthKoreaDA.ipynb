{
  "nbformat": 4,
  "nbformat_minor": 0,
  "metadata": {
    "colab": {
      "provenance": [],
      "authorship_tag": "ABX9TyOQ5TfIREODVP7SPxEAHHeA",
      "include_colab_link": true
    },
    "kernelspec": {
      "name": "python3",
      "display_name": "Python 3"
    },
    "language_info": {
      "name": "python"
    }
  },
  "cells": [
    {
      "cell_type": "markdown",
      "metadata": {
        "id": "view-in-github",
        "colab_type": "text"
      },
      "source": [
        "<a href=\"https://colab.research.google.com/github/thdfydgh/NorthKoreaDA/blob/main/NorthKoreaDA.ipynb\" target=\"_parent\"><img src=\"https://colab.research.google.com/assets/colab-badge.svg\" alt=\"Open In Colab\"/></a>"
      ]
    },
    {
      "cell_type": "markdown",
      "source": [
        "## [Project] 직접 군 복무중에 해보는 북한 기상 데이터 분석 - 시각화편\n"
      ],
      "metadata": {
        "id": "htbKNhOLGEsO"
      }
    },
    {
      "cell_type": "markdown",
      "source": [
        "**프로젝트 목표**\n",
        "\n",
        "\n",
        "*  북한의 기온, 기압, 바람, 강수량 등의 전문자료를 시간 자료로 탐색적 데이터 분석(EDA) 기법을 적용하여 시각화 프로젝트 수행\n",
        "\n",
        "\n"
      ],
      "metadata": {
        "id": "2txvxWoaMM1k"
      }
    },
    {
      "cell_type": "markdown",
      "source": [
        "#**1. 데이터 읽기**"
      ],
      "metadata": {
        "id": "_pTK_nvbNtmJ"
      }
    },
    {
      "cell_type": "code",
      "source": [
        "import numpy as np\n",
        "import matplotlib.pyplot as plt\n",
        "import pandas as pd\n",
        "import matplotlib.font_manager as fm\n",
        "# 한글 포트 설정\n",
        "plt.rc('font', family='NanumBarunGothic') "
      ],
      "metadata": {
        "id": "PzuS1m8vIdP3"
      },
      "execution_count": 9,
      "outputs": []
    },
    {
      "cell_type": "code",
      "source": [
        "# csv 파일 읽기, 데이터 타입 확인\n",
        "data = pd.read_csv('/content/sample_data/NorthWeatherData.csv', encoding = 'euc-kr')\n",
        "data.dtypes"
      ],
      "metadata": {
        "id": "L5SVKMQyIpGG"
      },
      "execution_count": null,
      "outputs": []
    },
    {
      "cell_type": "code",
      "source": [
        "# 열 이름 출력\n",
        "data.columns.values"
      ],
      "metadata": {
        "id": "RItjNctTM8BK"
      },
      "execution_count": null,
      "outputs": []
    },
    {
      "cell_type": "code",
      "source": [
        "# 데이터 확인. 첫 5개 데이터\n",
        "data.head()"
      ],
      "metadata": {
        "colab": {
          "base_uri": "https://localhost:8080/",
          "height": 354
        },
        "id": "G_LB9f9RNWwd",
        "outputId": "9ae9d976-9b85-40ae-c878-08248c255b98"
      },
      "execution_count": 21,
      "outputs": [
        {
          "output_type": "execute_result",
          "data": {
            "text/plain": [
              "   지점                일시  전운량(할)  최저운고(할)  중하층운량(할)  하층운형  중층운형  상층운형  기온(°C)  \\\n",
              "0   3  2022-11-01 00:00    10.0      2.0      10.0   0.0   2.0   NaN     8.5   \n",
              "1   3  2022-11-01 03:00    10.0      5.0      10.0   5.0   NaN   NaN     7.2   \n",
              "2   3  2022-11-01 06:00    10.0      5.0      10.0   5.0   NaN   NaN     7.5   \n",
              "3   3  2022-11-01 09:00    10.0      5.0       4.0   5.0   7.0   NaN    11.3   \n",
              "4   3  2022-11-01 12:00     0.0      9.0       NaN   NaN   NaN   NaN    14.1   \n",
              "\n",
              "   풍향(36방위)  풍속(m/s)  해면기압(hPa)  현지기압(hPa)  12시간강수량(mm)  상대습도(%)  이슬점온도(°C)  \\\n",
              "0         0        0     1021.2     1020.8          NaN     93.0        7.4   \n",
              "1         0        0     1020.4     1020.0          0.4     93.0        6.1   \n",
              "2         0        0     1019.4     1019.0          NaN     90.0        5.9   \n",
              "3        32        3     1019.0     1018.6          0.4     56.0        2.9   \n",
              "4        32        4     1018.6     1018.2          NaN     36.0       -0.7   \n",
              "\n",
              "   시정(10m)  \n",
              "0      800  \n",
              "1     2000  \n",
              "2     2000  \n",
              "3     3000  \n",
              "4     3000  "
            ],
            "text/html": [
              "\n",
              "  <div id=\"df-dc3b820f-dde3-4191-9807-fcd95c8e913a\">\n",
              "    <div class=\"colab-df-container\">\n",
              "      <div>\n",
              "<style scoped>\n",
              "    .dataframe tbody tr th:only-of-type {\n",
              "        vertical-align: middle;\n",
              "    }\n",
              "\n",
              "    .dataframe tbody tr th {\n",
              "        vertical-align: top;\n",
              "    }\n",
              "\n",
              "    .dataframe thead th {\n",
              "        text-align: right;\n",
              "    }\n",
              "</style>\n",
              "<table border=\"1\" class=\"dataframe\">\n",
              "  <thead>\n",
              "    <tr style=\"text-align: right;\">\n",
              "      <th></th>\n",
              "      <th>지점</th>\n",
              "      <th>일시</th>\n",
              "      <th>전운량(할)</th>\n",
              "      <th>최저운고(할)</th>\n",
              "      <th>중하층운량(할)</th>\n",
              "      <th>하층운형</th>\n",
              "      <th>중층운형</th>\n",
              "      <th>상층운형</th>\n",
              "      <th>기온(°C)</th>\n",
              "      <th>풍향(36방위)</th>\n",
              "      <th>풍속(m/s)</th>\n",
              "      <th>해면기압(hPa)</th>\n",
              "      <th>현지기압(hPa)</th>\n",
              "      <th>12시간강수량(mm)</th>\n",
              "      <th>상대습도(%)</th>\n",
              "      <th>이슬점온도(°C)</th>\n",
              "      <th>시정(10m)</th>\n",
              "    </tr>\n",
              "  </thead>\n",
              "  <tbody>\n",
              "    <tr>\n",
              "      <th>0</th>\n",
              "      <td>3</td>\n",
              "      <td>2022-11-01 00:00</td>\n",
              "      <td>10.0</td>\n",
              "      <td>2.0</td>\n",
              "      <td>10.0</td>\n",
              "      <td>0.0</td>\n",
              "      <td>2.0</td>\n",
              "      <td>NaN</td>\n",
              "      <td>8.5</td>\n",
              "      <td>0</td>\n",
              "      <td>0</td>\n",
              "      <td>1021.2</td>\n",
              "      <td>1020.8</td>\n",
              "      <td>NaN</td>\n",
              "      <td>93.0</td>\n",
              "      <td>7.4</td>\n",
              "      <td>800</td>\n",
              "    </tr>\n",
              "    <tr>\n",
              "      <th>1</th>\n",
              "      <td>3</td>\n",
              "      <td>2022-11-01 03:00</td>\n",
              "      <td>10.0</td>\n",
              "      <td>5.0</td>\n",
              "      <td>10.0</td>\n",
              "      <td>5.0</td>\n",
              "      <td>NaN</td>\n",
              "      <td>NaN</td>\n",
              "      <td>7.2</td>\n",
              "      <td>0</td>\n",
              "      <td>0</td>\n",
              "      <td>1020.4</td>\n",
              "      <td>1020.0</td>\n",
              "      <td>0.4</td>\n",
              "      <td>93.0</td>\n",
              "      <td>6.1</td>\n",
              "      <td>2000</td>\n",
              "    </tr>\n",
              "    <tr>\n",
              "      <th>2</th>\n",
              "      <td>3</td>\n",
              "      <td>2022-11-01 06:00</td>\n",
              "      <td>10.0</td>\n",
              "      <td>5.0</td>\n",
              "      <td>10.0</td>\n",
              "      <td>5.0</td>\n",
              "      <td>NaN</td>\n",
              "      <td>NaN</td>\n",
              "      <td>7.5</td>\n",
              "      <td>0</td>\n",
              "      <td>0</td>\n",
              "      <td>1019.4</td>\n",
              "      <td>1019.0</td>\n",
              "      <td>NaN</td>\n",
              "      <td>90.0</td>\n",
              "      <td>5.9</td>\n",
              "      <td>2000</td>\n",
              "    </tr>\n",
              "    <tr>\n",
              "      <th>3</th>\n",
              "      <td>3</td>\n",
              "      <td>2022-11-01 09:00</td>\n",
              "      <td>10.0</td>\n",
              "      <td>5.0</td>\n",
              "      <td>4.0</td>\n",
              "      <td>5.0</td>\n",
              "      <td>7.0</td>\n",
              "      <td>NaN</td>\n",
              "      <td>11.3</td>\n",
              "      <td>32</td>\n",
              "      <td>3</td>\n",
              "      <td>1019.0</td>\n",
              "      <td>1018.6</td>\n",
              "      <td>0.4</td>\n",
              "      <td>56.0</td>\n",
              "      <td>2.9</td>\n",
              "      <td>3000</td>\n",
              "    </tr>\n",
              "    <tr>\n",
              "      <th>4</th>\n",
              "      <td>3</td>\n",
              "      <td>2022-11-01 12:00</td>\n",
              "      <td>0.0</td>\n",
              "      <td>9.0</td>\n",
              "      <td>NaN</td>\n",
              "      <td>NaN</td>\n",
              "      <td>NaN</td>\n",
              "      <td>NaN</td>\n",
              "      <td>14.1</td>\n",
              "      <td>32</td>\n",
              "      <td>4</td>\n",
              "      <td>1018.6</td>\n",
              "      <td>1018.2</td>\n",
              "      <td>NaN</td>\n",
              "      <td>36.0</td>\n",
              "      <td>-0.7</td>\n",
              "      <td>3000</td>\n",
              "    </tr>\n",
              "  </tbody>\n",
              "</table>\n",
              "</div>\n",
              "      <button class=\"colab-df-convert\" onclick=\"convertToInteractive('df-dc3b820f-dde3-4191-9807-fcd95c8e913a')\"\n",
              "              title=\"Convert this dataframe to an interactive table.\"\n",
              "              style=\"display:none;\">\n",
              "        \n",
              "  <svg xmlns=\"http://www.w3.org/2000/svg\" height=\"24px\"viewBox=\"0 0 24 24\"\n",
              "       width=\"24px\">\n",
              "    <path d=\"M0 0h24v24H0V0z\" fill=\"none\"/>\n",
              "    <path d=\"M18.56 5.44l.94 2.06.94-2.06 2.06-.94-2.06-.94-.94-2.06-.94 2.06-2.06.94zm-11 1L8.5 8.5l.94-2.06 2.06-.94-2.06-.94L8.5 2.5l-.94 2.06-2.06.94zm10 10l.94 2.06.94-2.06 2.06-.94-2.06-.94-.94-2.06-.94 2.06-2.06.94z\"/><path d=\"M17.41 7.96l-1.37-1.37c-.4-.4-.92-.59-1.43-.59-.52 0-1.04.2-1.43.59L10.3 9.45l-7.72 7.72c-.78.78-.78 2.05 0 2.83L4 21.41c.39.39.9.59 1.41.59.51 0 1.02-.2 1.41-.59l7.78-7.78 2.81-2.81c.8-.78.8-2.07 0-2.86zM5.41 20L4 18.59l7.72-7.72 1.47 1.35L5.41 20z\"/>\n",
              "  </svg>\n",
              "      </button>\n",
              "      \n",
              "  <style>\n",
              "    .colab-df-container {\n",
              "      display:flex;\n",
              "      flex-wrap:wrap;\n",
              "      gap: 12px;\n",
              "    }\n",
              "\n",
              "    .colab-df-convert {\n",
              "      background-color: #E8F0FE;\n",
              "      border: none;\n",
              "      border-radius: 50%;\n",
              "      cursor: pointer;\n",
              "      display: none;\n",
              "      fill: #1967D2;\n",
              "      height: 32px;\n",
              "      padding: 0 0 0 0;\n",
              "      width: 32px;\n",
              "    }\n",
              "\n",
              "    .colab-df-convert:hover {\n",
              "      background-color: #E2EBFA;\n",
              "      box-shadow: 0px 1px 2px rgba(60, 64, 67, 0.3), 0px 1px 3px 1px rgba(60, 64, 67, 0.15);\n",
              "      fill: #174EA6;\n",
              "    }\n",
              "\n",
              "    [theme=dark] .colab-df-convert {\n",
              "      background-color: #3B4455;\n",
              "      fill: #D2E3FC;\n",
              "    }\n",
              "\n",
              "    [theme=dark] .colab-df-convert:hover {\n",
              "      background-color: #434B5C;\n",
              "      box-shadow: 0px 1px 3px 1px rgba(0, 0, 0, 0.15);\n",
              "      filter: drop-shadow(0px 1px 2px rgba(0, 0, 0, 0.3));\n",
              "      fill: #FFFFFF;\n",
              "    }\n",
              "  </style>\n",
              "\n",
              "      <script>\n",
              "        const buttonEl =\n",
              "          document.querySelector('#df-dc3b820f-dde3-4191-9807-fcd95c8e913a button.colab-df-convert');\n",
              "        buttonEl.style.display =\n",
              "          google.colab.kernel.accessAllowed ? 'block' : 'none';\n",
              "\n",
              "        async function convertToInteractive(key) {\n",
              "          const element = document.querySelector('#df-dc3b820f-dde3-4191-9807-fcd95c8e913a');\n",
              "          const dataTable =\n",
              "            await google.colab.kernel.invokeFunction('convertToInteractive',\n",
              "                                                     [key], {});\n",
              "          if (!dataTable) return;\n",
              "\n",
              "          const docLinkHtml = 'Like what you see? Visit the ' +\n",
              "            '<a target=\"_blank\" href=https://colab.research.google.com/notebooks/data_table.ipynb>data table notebook</a>'\n",
              "            + ' to learn more about interactive tables.';\n",
              "          element.innerHTML = '';\n",
              "          dataTable['output_type'] = 'display_data';\n",
              "          await google.colab.output.renderOutput(dataTable, element);\n",
              "          const docLink = document.createElement('div');\n",
              "          docLink.innerHTML = docLinkHtml;\n",
              "          element.appendChild(docLink);\n",
              "        }\n",
              "      </script>\n",
              "    </div>\n",
              "  </div>\n",
              "  "
            ]
          },
          "metadata": {},
          "execution_count": 21
        }
      ]
    },
    {
      "cell_type": "code",
      "source": [
        "# 데이터 확인. 마지막 5개 데이터\n",
        "data.tail()"
      ],
      "metadata": {
        "id": "Kw3asITwNXGg"
      },
      "execution_count": null,
      "outputs": []
    },
    {
      "cell_type": "markdown",
      "source": [
        "#**2. 데이터 정제**"
      ],
      "metadata": {
        "id": "00hSqZlzNzZo"
      }
    },
    {
      "cell_type": "code",
      "source": [],
      "metadata": {
        "id": "kjnOLcdhNXRh"
      },
      "execution_count": null,
      "outputs": []
    }
  ]
}